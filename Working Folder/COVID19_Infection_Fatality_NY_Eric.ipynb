{
 "cells": [
  {
   "cell_type": "code",
   "execution_count": 1,
   "metadata": {},
   "outputs": [
    {
     "ename": "FileNotFoundError",
     "evalue": "[Errno 2] No such file or directory: 'csse_covid_19_data/csse_covid_19_time_series/time_series_covid19_confirmed_US.csv'",
     "output_type": "error",
     "traceback": [
      "\u001b[1;31m---------------------------------------------------------------------------\u001b[0m",
      "\u001b[1;31mFileNotFoundError\u001b[0m                         Traceback (most recent call last)",
      "\u001b[1;32m<ipython-input-1-20cf64dfdba1>\u001b[0m in \u001b[0;36m<module>\u001b[1;34m\u001b[0m\n\u001b[0;32m     13\u001b[0m \u001b[0mfile_to_load2\u001b[0m \u001b[1;33m=\u001b[0m \u001b[1;34m\"csse_covid_19_data/csse_covid_19_time_series/time_series_covid19_deaths_US.csv\"\u001b[0m\u001b[1;33m\u001b[0m\u001b[1;33m\u001b[0m\u001b[0m\n\u001b[0;32m     14\u001b[0m \u001b[1;31m# Read Purchasing File and store into Pandas data frame\u001b[0m\u001b[1;33m\u001b[0m\u001b[1;33m\u001b[0m\u001b[1;33m\u001b[0m\u001b[0m\n\u001b[1;32m---> 15\u001b[1;33m \u001b[0mdf\u001b[0m \u001b[1;33m=\u001b[0m \u001b[0mpd\u001b[0m\u001b[1;33m.\u001b[0m\u001b[0mread_csv\u001b[0m\u001b[1;33m(\u001b[0m\u001b[0mfile_to_load\u001b[0m\u001b[1;33m)\u001b[0m\u001b[1;33m\u001b[0m\u001b[1;33m\u001b[0m\u001b[0m\n\u001b[0m\u001b[0;32m     16\u001b[0m \u001b[0mdf_2\u001b[0m \u001b[1;33m=\u001b[0m \u001b[0mpd\u001b[0m\u001b[1;33m.\u001b[0m\u001b[0mread_csv\u001b[0m\u001b[1;33m(\u001b[0m\u001b[0mfile_to_load2\u001b[0m\u001b[1;33m)\u001b[0m\u001b[1;33m\u001b[0m\u001b[1;33m\u001b[0m\u001b[0m\n",
      "\u001b[1;32m~\\anaconda3\\lib\\site-packages\\pandas\\io\\parsers.py\u001b[0m in \u001b[0;36mread_csv\u001b[1;34m(filepath_or_buffer, sep, delimiter, header, names, index_col, usecols, squeeze, prefix, mangle_dupe_cols, dtype, engine, converters, true_values, false_values, skipinitialspace, skiprows, skipfooter, nrows, na_values, keep_default_na, na_filter, verbose, skip_blank_lines, parse_dates, infer_datetime_format, keep_date_col, date_parser, dayfirst, cache_dates, iterator, chunksize, compression, thousands, decimal, lineterminator, quotechar, quoting, doublequote, escapechar, comment, encoding, dialect, error_bad_lines, warn_bad_lines, delim_whitespace, low_memory, memory_map, float_precision)\u001b[0m\n\u001b[0;32m    684\u001b[0m     )\n\u001b[0;32m    685\u001b[0m \u001b[1;33m\u001b[0m\u001b[0m\n\u001b[1;32m--> 686\u001b[1;33m     \u001b[1;32mreturn\u001b[0m \u001b[0m_read\u001b[0m\u001b[1;33m(\u001b[0m\u001b[0mfilepath_or_buffer\u001b[0m\u001b[1;33m,\u001b[0m \u001b[0mkwds\u001b[0m\u001b[1;33m)\u001b[0m\u001b[1;33m\u001b[0m\u001b[1;33m\u001b[0m\u001b[0m\n\u001b[0m\u001b[0;32m    687\u001b[0m \u001b[1;33m\u001b[0m\u001b[0m\n\u001b[0;32m    688\u001b[0m \u001b[1;33m\u001b[0m\u001b[0m\n",
      "\u001b[1;32m~\\anaconda3\\lib\\site-packages\\pandas\\io\\parsers.py\u001b[0m in \u001b[0;36m_read\u001b[1;34m(filepath_or_buffer, kwds)\u001b[0m\n\u001b[0;32m    450\u001b[0m \u001b[1;33m\u001b[0m\u001b[0m\n\u001b[0;32m    451\u001b[0m     \u001b[1;31m# Create the parser.\u001b[0m\u001b[1;33m\u001b[0m\u001b[1;33m\u001b[0m\u001b[1;33m\u001b[0m\u001b[0m\n\u001b[1;32m--> 452\u001b[1;33m     \u001b[0mparser\u001b[0m \u001b[1;33m=\u001b[0m \u001b[0mTextFileReader\u001b[0m\u001b[1;33m(\u001b[0m\u001b[0mfp_or_buf\u001b[0m\u001b[1;33m,\u001b[0m \u001b[1;33m**\u001b[0m\u001b[0mkwds\u001b[0m\u001b[1;33m)\u001b[0m\u001b[1;33m\u001b[0m\u001b[1;33m\u001b[0m\u001b[0m\n\u001b[0m\u001b[0;32m    453\u001b[0m \u001b[1;33m\u001b[0m\u001b[0m\n\u001b[0;32m    454\u001b[0m     \u001b[1;32mif\u001b[0m \u001b[0mchunksize\u001b[0m \u001b[1;32mor\u001b[0m \u001b[0miterator\u001b[0m\u001b[1;33m:\u001b[0m\u001b[1;33m\u001b[0m\u001b[1;33m\u001b[0m\u001b[0m\n",
      "\u001b[1;32m~\\anaconda3\\lib\\site-packages\\pandas\\io\\parsers.py\u001b[0m in \u001b[0;36m__init__\u001b[1;34m(self, f, engine, **kwds)\u001b[0m\n\u001b[0;32m    934\u001b[0m             \u001b[0mself\u001b[0m\u001b[1;33m.\u001b[0m\u001b[0moptions\u001b[0m\u001b[1;33m[\u001b[0m\u001b[1;34m\"has_index_names\"\u001b[0m\u001b[1;33m]\u001b[0m \u001b[1;33m=\u001b[0m \u001b[0mkwds\u001b[0m\u001b[1;33m[\u001b[0m\u001b[1;34m\"has_index_names\"\u001b[0m\u001b[1;33m]\u001b[0m\u001b[1;33m\u001b[0m\u001b[1;33m\u001b[0m\u001b[0m\n\u001b[0;32m    935\u001b[0m \u001b[1;33m\u001b[0m\u001b[0m\n\u001b[1;32m--> 936\u001b[1;33m         \u001b[0mself\u001b[0m\u001b[1;33m.\u001b[0m\u001b[0m_make_engine\u001b[0m\u001b[1;33m(\u001b[0m\u001b[0mself\u001b[0m\u001b[1;33m.\u001b[0m\u001b[0mengine\u001b[0m\u001b[1;33m)\u001b[0m\u001b[1;33m\u001b[0m\u001b[1;33m\u001b[0m\u001b[0m\n\u001b[0m\u001b[0;32m    937\u001b[0m \u001b[1;33m\u001b[0m\u001b[0m\n\u001b[0;32m    938\u001b[0m     \u001b[1;32mdef\u001b[0m \u001b[0mclose\u001b[0m\u001b[1;33m(\u001b[0m\u001b[0mself\u001b[0m\u001b[1;33m)\u001b[0m\u001b[1;33m:\u001b[0m\u001b[1;33m\u001b[0m\u001b[1;33m\u001b[0m\u001b[0m\n",
      "\u001b[1;32m~\\anaconda3\\lib\\site-packages\\pandas\\io\\parsers.py\u001b[0m in \u001b[0;36m_make_engine\u001b[1;34m(self, engine)\u001b[0m\n\u001b[0;32m   1166\u001b[0m     \u001b[1;32mdef\u001b[0m \u001b[0m_make_engine\u001b[0m\u001b[1;33m(\u001b[0m\u001b[0mself\u001b[0m\u001b[1;33m,\u001b[0m \u001b[0mengine\u001b[0m\u001b[1;33m=\u001b[0m\u001b[1;34m\"c\"\u001b[0m\u001b[1;33m)\u001b[0m\u001b[1;33m:\u001b[0m\u001b[1;33m\u001b[0m\u001b[1;33m\u001b[0m\u001b[0m\n\u001b[0;32m   1167\u001b[0m         \u001b[1;32mif\u001b[0m \u001b[0mengine\u001b[0m \u001b[1;33m==\u001b[0m \u001b[1;34m\"c\"\u001b[0m\u001b[1;33m:\u001b[0m\u001b[1;33m\u001b[0m\u001b[1;33m\u001b[0m\u001b[0m\n\u001b[1;32m-> 1168\u001b[1;33m             \u001b[0mself\u001b[0m\u001b[1;33m.\u001b[0m\u001b[0m_engine\u001b[0m \u001b[1;33m=\u001b[0m \u001b[0mCParserWrapper\u001b[0m\u001b[1;33m(\u001b[0m\u001b[0mself\u001b[0m\u001b[1;33m.\u001b[0m\u001b[0mf\u001b[0m\u001b[1;33m,\u001b[0m \u001b[1;33m**\u001b[0m\u001b[0mself\u001b[0m\u001b[1;33m.\u001b[0m\u001b[0moptions\u001b[0m\u001b[1;33m)\u001b[0m\u001b[1;33m\u001b[0m\u001b[1;33m\u001b[0m\u001b[0m\n\u001b[0m\u001b[0;32m   1169\u001b[0m         \u001b[1;32melse\u001b[0m\u001b[1;33m:\u001b[0m\u001b[1;33m\u001b[0m\u001b[1;33m\u001b[0m\u001b[0m\n\u001b[0;32m   1170\u001b[0m             \u001b[1;32mif\u001b[0m \u001b[0mengine\u001b[0m \u001b[1;33m==\u001b[0m \u001b[1;34m\"python\"\u001b[0m\u001b[1;33m:\u001b[0m\u001b[1;33m\u001b[0m\u001b[1;33m\u001b[0m\u001b[0m\n",
      "\u001b[1;32m~\\anaconda3\\lib\\site-packages\\pandas\\io\\parsers.py\u001b[0m in \u001b[0;36m__init__\u001b[1;34m(self, src, **kwds)\u001b[0m\n\u001b[0;32m   1996\u001b[0m         \u001b[0mkwds\u001b[0m\u001b[1;33m[\u001b[0m\u001b[1;34m\"usecols\"\u001b[0m\u001b[1;33m]\u001b[0m \u001b[1;33m=\u001b[0m \u001b[0mself\u001b[0m\u001b[1;33m.\u001b[0m\u001b[0musecols\u001b[0m\u001b[1;33m\u001b[0m\u001b[1;33m\u001b[0m\u001b[0m\n\u001b[0;32m   1997\u001b[0m \u001b[1;33m\u001b[0m\u001b[0m\n\u001b[1;32m-> 1998\u001b[1;33m         \u001b[0mself\u001b[0m\u001b[1;33m.\u001b[0m\u001b[0m_reader\u001b[0m \u001b[1;33m=\u001b[0m \u001b[0mparsers\u001b[0m\u001b[1;33m.\u001b[0m\u001b[0mTextReader\u001b[0m\u001b[1;33m(\u001b[0m\u001b[0msrc\u001b[0m\u001b[1;33m,\u001b[0m \u001b[1;33m**\u001b[0m\u001b[0mkwds\u001b[0m\u001b[1;33m)\u001b[0m\u001b[1;33m\u001b[0m\u001b[1;33m\u001b[0m\u001b[0m\n\u001b[0m\u001b[0;32m   1999\u001b[0m         \u001b[0mself\u001b[0m\u001b[1;33m.\u001b[0m\u001b[0munnamed_cols\u001b[0m \u001b[1;33m=\u001b[0m \u001b[0mself\u001b[0m\u001b[1;33m.\u001b[0m\u001b[0m_reader\u001b[0m\u001b[1;33m.\u001b[0m\u001b[0munnamed_cols\u001b[0m\u001b[1;33m\u001b[0m\u001b[1;33m\u001b[0m\u001b[0m\n\u001b[0;32m   2000\u001b[0m \u001b[1;33m\u001b[0m\u001b[0m\n",
      "\u001b[1;32mpandas\\_libs\\parsers.pyx\u001b[0m in \u001b[0;36mpandas._libs.parsers.TextReader.__cinit__\u001b[1;34m()\u001b[0m\n",
      "\u001b[1;32mpandas\\_libs\\parsers.pyx\u001b[0m in \u001b[0;36mpandas._libs.parsers.TextReader._setup_parser_source\u001b[1;34m()\u001b[0m\n",
      "\u001b[1;31mFileNotFoundError\u001b[0m: [Errno 2] No such file or directory: 'csse_covid_19_data/csse_covid_19_time_series/time_series_covid19_confirmed_US.csv'"
     ]
    }
   ],
   "source": [
    "# Dependencies and Setup\n",
    "import pandas as pd\n",
    "import sklearn.datasets as dta\n",
    "import scipy.stats as st\n",
    "import matplotlib.pyplot as plt\n",
    "import numpy as np\n",
    "import datetime\n",
    "from matplotlib import dates as mpl_dates\n",
    "from matplotlib.pyplot import figure\n",
    "from scipy.stats import linregress\n",
    "# File to Load (Remember to Change These)\n",
    "file_to_load = \"csse_covid_19_data/csse_covid_19_time_series/time_series_covid19_confirmed_US.csv\"\n",
    "file_to_load2 = \"csse_covid_19_data/csse_covid_19_time_series/time_series_covid19_deaths_US.csv\"\n",
    "# Read Purchasing File and store into Pandas data frame\n",
    "df = pd.read_csv(file_to_load)\n",
    "df_2 = pd.read_csv(file_to_load2)"
   ]
  },
  {
   "cell_type": "markdown",
   "metadata": {},
   "source": [
    "# Which States Implentment Stay at Home Order Better? "
   ]
  },
  {
   "cell_type": "markdown",
   "metadata": {},
   "source": [
    "## California COVID-19 Infection Data "
   ]
  },
  {
   "cell_type": "code",
   "execution_count": null,
   "metadata": {},
   "outputs": [],
   "source": [
    "df"
   ]
  },
  {
   "cell_type": "code",
   "execution_count": null,
   "metadata": {
    "scrolled": true
   },
   "outputs": [],
   "source": [
    "california_df = df.loc[df['Province_State'] == 'California']\n",
    "california_df = california_df.drop(['Admin2','Province_State','Country_Region','UID','iso2','iso3','code3','FIPS','Lat','Long_','4/19/20','4/20/20','4/21/20'],axis = 1)\n",
    "california_df = california_df.set_index('Combined_Key')\n",
    "california_df"
   ]
  },
  {
   "cell_type": "code",
   "execution_count": null,
   "metadata": {},
   "outputs": [],
   "source": [
    "#Check for any null value in dataframe \n",
    "null_data = california_df[california_df.isnull().any(axis=1)]\n",
    "null_data"
   ]
  },
  {
   "cell_type": "code",
   "execution_count": null,
   "metadata": {
    "scrolled": true
   },
   "outputs": [],
   "source": [
    "#Find the first date of infection, which is when sum(infection number) > 0 \n",
    "#1/26/20 is the first confirmed date in California \n",
    "california_df_sum= california_df.sum(axis = 0)\n",
    "california_df_sum = california_df_sum.to_frame()\n",
    "california_df_sum = california_df_sum.reset_index()\n",
    "#california_df_sum = california_df_sum.(columns={'Index':'Date','':'Infection number'})\n",
    "california_df_sum\n",
    "#california_df_sum.plot(kind= \"line\", x='index')"
   ]
  },
  {
   "cell_type": "code",
   "execution_count": null,
   "metadata": {},
   "outputs": [],
   "source": [
    "california_df_sum.columns = ['Date', 'Infection number']"
   ]
  },
  {
   "cell_type": "code",
   "execution_count": null,
   "metadata": {
    "scrolled": true
   },
   "outputs": [],
   "source": [
    "california_df_sum"
   ]
  },
  {
   "cell_type": "code",
   "execution_count": null,
   "metadata": {},
   "outputs": [],
   "source": []
  },
  {
   "cell_type": "code",
   "execution_count": null,
   "metadata": {},
   "outputs": [],
   "source": []
  },
  {
   "cell_type": "code",
   "execution_count": null,
   "metadata": {},
   "outputs": [],
   "source": [
    "california_df_sum['Date'] = pd.to_datetime(california_df_sum['Date'])\n",
    "california_df_sum.plot(kind= \"line\", x='Date',y='Infection number', marker = '*',figsize =(10,10))\n",
    "plt.ylabel(\"Number of Infection\")\n",
    "plt.xlabel(\"Date from 1/22/20 - 4/18/20\")\n",
    "plt.savefig(\"0122_0402_Infection.png\")\n"
   ]
  },
  {
   "cell_type": "code",
   "execution_count": null,
   "metadata": {
    "scrolled": false
   },
   "outputs": [],
   "source": [
    "#Orginztion and pick out the important date \n",
    "ca_key_date_df= california_df[['1/25/20','1/26/20','3/18/20','3/19/20','3/20/20','4/2/20','4/18/20']]\n",
    "ca_key_date_df"
   ]
  },
  {
   "cell_type": "code",
   "execution_count": null,
   "metadata": {
    "scrolled": true
   },
   "outputs": [],
   "source": [
    "infection_rate_shelter = ca_key_date_df['4/18/20'] - ca_key_date_df['3/19/20']\n",
    "ca_key_date_df['Infection after shelter at home'] = infection_rate_shelter\n",
    "ca_key_date_df = ca_key_date_df.sort_values(by = ['Infection after shelter at home'], ascending = False)\n",
    "ca_key_date_df"
   ]
  },
  {
   "cell_type": "code",
   "execution_count": null,
   "metadata": {},
   "outputs": [],
   "source": [
    "#Calculating infection number after shelter at home \n",
    "infection_number_shelter = ca_key_date_df['Infection after shelter at home'].sum()\n",
    "infection_shelter_start = ca_key_date_df['3/19/20'].sum()\n",
    "infection_to_date = ca_key_date_df['4/18/20'].sum()\n",
    "infection_14_day_period = ca_key_date_df['4/2/20'].sum() - ca_key_date_df['3/19/20'].sum()\n",
    "infection_after_14_day = ca_key_date_df['4/18/20'].sum() - ca_key_date_df['4/2/20'].sum()\n",
    "\n",
    "print(f\"Total infection from 1/22/20 to 03/19/20: {infection_shelter_start} people\")\n",
    "print(f\"Total infection to 1/22/20 to 04/18/20: {infection_to_date} people\")\n",
    "print(f\"There are {infection_number_shelter} infection after shelter at home was ordered\")\n",
    "print(f\"Infection between 03/19/20 to 04/02/20: {infection_14_day_period}\")\n",
    "print(f\"Infection between 04/02/18 to 04/18/20: {infection_after_14_day}\")\n",
    "\n"
   ]
  },
  {
   "cell_type": "code",
   "execution_count": null,
   "metadata": {
    "scrolled": true
   },
   "outputs": [],
   "source": [
    "ca_top20_infeciton_df = ca_key_date_df.head(20)\n",
    "ca_top20_infeciton_df"
   ]
  },
  {
   "cell_type": "code",
   "execution_count": null,
   "metadata": {},
   "outputs": [],
   "source": [
    "#infection = ca_top20_infeciton_df['4/18/20']\n",
    "#county = ca_top20_infeciton_df['Combined_Key']\n",
    "#ca_top20_infeciton_df.plot.pie(y = '4/18/20')"
   ]
  },
  {
   "cell_type": "code",
   "execution_count": null,
   "metadata": {
    "scrolled": true
   },
   "outputs": [],
   "source": [
    "x_infeciton_date = [datetime.date(2020,1,22),datetime.date(2020,1,26),\n",
    "     datetime.date(2020,3,19),datetime.date(2020,4,2),datetime.date(2020,4,18)]\n",
    "y_infection_number = [0,2,1005,9768,19718]\n",
    "\n",
    "plt.plot_date(x_infeciton_date,y_infection_number, linestyle='solid')\n",
    "plt.gcf().autofmt_xdate()\n",
    "date_format = mpl_dates.DateFormatter('%b,%d')\n",
    "plt.gca().xaxis.set_major_formatter(date_format)\n",
    "\n",
    "plt.tight_layout()\n",
    "plt.style.use('seaborn')\n",
    "#print(plt.style.available)\n",
    "#plt.plot(x_infeciton_date,y_infection_number, marker = \"o\", linestyle = 'dashed')\n",
    "plt.xlabel(\"Date\")\n",
    "plt.ylabel(\"Infection number\")\n",
    "#plt.legend()\n",
    "plt.style.use('seaborn')\n",
    "plt.savefig(\"CA_key_date_infection.png\")\n",
    "plt.show()\n"
   ]
  },
  {
   "cell_type": "code",
   "execution_count": null,
   "metadata": {},
   "outputs": [],
   "source": [
    "#x_infeciton_date_ny = [datetime.date(2020,1,22),datetime.date(2020,3,2),datetime.date(2020,3,22),datetime.date(2020,4,5),datetime.date(2020,4,18)]\n",
    "#y_infection_number_ny = [0,1,15800,123160,241712]\n",
    "#plt.plot_date(x_infeciton_date_ny,y_infection_number_ny, linestyle='dashed')\n",
    "#plt.gcf().autofmt_xdate()\n",
    "#date_format = mpl_dates.DateFormatter('%b,%d')\n",
    "#plt.gca().xaxis.set_major_formatter(date_format)\n",
    "\n",
    "#plt.tight_layout()\n",
    "#plt.style.use('seaborn')\n",
    "#plt.show()"
   ]
  },
  {
   "cell_type": "code",
   "execution_count": null,
   "metadata": {},
   "outputs": [],
   "source": [
    "california_df_sum['Date'] = pd.to_datetime(california_df_sum.Date)\n",
    "\n",
    "california_df_sum"
   ]
  },
  {
   "cell_type": "code",
   "execution_count": null,
   "metadata": {},
   "outputs": [],
   "source": [
    "infection_319_418 = california_df_sum.iloc[57:,:]\n",
    "infection_319_418 = infection_319_418.reset_index()\n",
    "infection_319_418"
   ]
  },
  {
   "cell_type": "code",
   "execution_count": null,
   "metadata": {},
   "outputs": [],
   "source": [
    "infection_est = [30491,128640]\n",
    "list_1 = ['Shelter in place', 'No Shelter in place']"
   ]
  },
  {
   "cell_type": "code",
   "execution_count": null,
   "metadata": {},
   "outputs": [],
   "source": [
    "plt.bar(x = list_1, height = infection_est, width = 0.3)\n",
    "plt.xlabel(\"CA 03/19/20\")\n",
    "plt.ylabel(\"CA infection number estimate\")\n",
    "plt.title(\"Estimating infection in California\")\n",
    "plt.tight_layout()\n",
    "plt.savefig(\"CA_estimate_infection.png\")"
   ]
  },
  {
   "cell_type": "code",
   "execution_count": null,
   "metadata": {},
   "outputs": [],
   "source": [
    "plt.bar(x = infection_319_418['index'], height = infection_319_418['Infection number'])"
   ]
  },
  {
   "cell_type": "code",
   "execution_count": null,
   "metadata": {},
   "outputs": [],
   "source": []
  },
  {
   "cell_type": "code",
   "execution_count": null,
   "metadata": {},
   "outputs": [],
   "source": [
    "infection_319 = california_df_sum.iloc[57:72,:]\n",
    "infection_319"
   ]
  },
  {
   "cell_type": "code",
   "execution_count": null,
   "metadata": {
    "scrolled": true
   },
   "outputs": [],
   "source": [
    "infection_319 = infection_319.reset_index()\n",
    "x_319_value = infection_319['index']\n",
    "y_319_value = infection_319['Infection number']\n",
    "plt.scatter(infection_319['Date'],y_319_value)\n",
    "(slope, intercept, rvalue, pvalue, stderr) = linregress(x_319_value, y_319_value)\n",
    "regress_values = x_319_value * slope + intercept\n",
    "line_eq = \"y = \" + str(round(slope,2)) + \"x + \" + str(round(intercept,2))\n",
    "print(f\" Slope for 03/19 - 04/2 = {slope}\")\n",
    "plt.xlabel('First 14 days after shut down')\n",
    "plt.ylabel('Number of Infection ')\n",
    "plt.show()\n"
   ]
  },
  {
   "cell_type": "code",
   "execution_count": null,
   "metadata": {},
   "outputs": [],
   "source": [
    "plt.scatter(x_319_value,y_319_value)\n",
    "plt.plot(x_319_value,regress_values,\"r-\")\n",
    "plt.annotate(line_eq,(60,8000),fontsize=15,color=\"red\")\n",
    "plt.xlabel('First 14 days after shut down 03/19 - 04/02')\n",
    "plt.ylabel('Number of Infection ')\n",
    "print(line_eq)\n",
    "print(f\"Slope for 03/19 - 04/2 = {slope}\")\n",
    "print(f\"The r-squared is: {rvalue**2}\")\n",
    "plt.savefig(\"CA_0319_0402_Infection.png\")\n",
    "plt.show()"
   ]
  },
  {
   "cell_type": "code",
   "execution_count": null,
   "metadata": {},
   "outputs": [],
   "source": [
    "infection_402 = california_df_sum.iloc[72:,:]\n",
    "infection_402"
   ]
  },
  {
   "cell_type": "code",
   "execution_count": null,
   "metadata": {},
   "outputs": [],
   "source": [
    "infection_402 = infection_402.reset_index()\n",
    "x_402_value = infection_402['index']\n",
    "y_402_value = infection_402['Infection number']\n",
    "plt.scatter(infection_402['Date'],y_402_value)\n",
    "(slope, intercept, rvalue, pvalue, stderr) = linregress(x_402_value, y_402_value)\n",
    "regress_values = x_402_value * slope + intercept\n",
    "line_eq = \"y = \" + str(round(slope,2)) + \"x + \" + str(round(intercept,2))\n",
    "print(f\"Slope for 04/02 - 04/18 = {slope}\")\n",
    "plt.show()"
   ]
  },
  {
   "cell_type": "code",
   "execution_count": null,
   "metadata": {},
   "outputs": [],
   "source": [
    "plt.scatter(x_402_value,y_402_value)\n",
    "plt.plot(x_402_value,regress_values,\"r-\")\n",
    "plt.annotate(line_eq,(75,27500),fontsize=15,color=\"red\")\n",
    "plt.xlabel('04/02/20 - 04/18/20')\n",
    "plt.ylabel('Number of Infection')\n",
    "print(line_eq)\n",
    "print(f\"Slope for 04/02 - 04/18 = {slope}\")\n",
    "print(f\"The r-squared is: {rvalue**2}\")\n",
    "plt.savefig(\"CA_0402_0418_Infection.png\")\n",
    "plt.show()\n"
   ]
  },
  {
   "cell_type": "markdown",
   "metadata": {},
   "source": [
    "## California COVID-19 Deaths Data "
   ]
  },
  {
   "cell_type": "code",
   "execution_count": null,
   "metadata": {
    "scrolled": true
   },
   "outputs": [],
   "source": [
    "df_2"
   ]
  },
  {
   "cell_type": "code",
   "execution_count": null,
   "metadata": {},
   "outputs": [],
   "source": [
    "california_death_df = df_2.loc[df_2['Province_State'] == 'California']\n",
    "california_death_df = california_death_df.drop(['Admin2','Province_State','Country_Region','UID','iso2','iso3','code3','FIPS','Lat','Long_','4/19/20','4/20/20','4/21/20'],axis = 1)\n",
    "california_death_df = california_death_df.set_index('Combined_Key')\n",
    "california_death_df"
   ]
  },
  {
   "cell_type": "code",
   "execution_count": null,
   "metadata": {},
   "outputs": [],
   "source": [
    "#Check for any null value in dataframe \n",
    "death_null_data = california_death_df[california_death_df.isnull().any(axis=1)]\n",
    "death_null_data"
   ]
  },
  {
   "cell_type": "code",
   "execution_count": null,
   "metadata": {
    "scrolled": true
   },
   "outputs": [],
   "source": [
    "#Find the first date of infection, which is when sum(infection number) > 0 \n",
    "#3/4/20 is the first confirmed death in California \n",
    "california_death_df_sum= california_death_df.sum(axis = 0)\n",
    "california_death_df_sum[california_death_df_sum > 0]\n"
   ]
  },
  {
   "cell_type": "code",
   "execution_count": null,
   "metadata": {},
   "outputs": [],
   "source": [
    "california_death_df_sum.to_frame()"
   ]
  },
  {
   "cell_type": "code",
   "execution_count": null,
   "metadata": {
    "scrolled": false
   },
   "outputs": [],
   "source": [
    "california_death_df_sum = california_death_df_sum.reset_index()\n",
    "california_death_df_sum.columns = ['Date','Deaths']\n",
    "california_death_df_sum"
   ]
  },
  {
   "cell_type": "code",
   "execution_count": null,
   "metadata": {},
   "outputs": [],
   "source": [
    "death_319_418 = california_death_df_sum.iloc[58:,:]\n",
    "death_319_418 = death_319_418.reset_index()\n",
    "death_319_418"
   ]
  },
  {
   "cell_type": "code",
   "execution_count": null,
   "metadata": {},
   "outputs": [],
   "source": [
    "plt.bar(x = death_319_418['index'], height = death_319_418['Deaths'])"
   ]
  },
  {
   "cell_type": "code",
   "execution_count": null,
   "metadata": {},
   "outputs": [],
   "source": []
  },
  {
   "cell_type": "code",
   "execution_count": null,
   "metadata": {},
   "outputs": [],
   "source": []
  },
  {
   "cell_type": "code",
   "execution_count": null,
   "metadata": {},
   "outputs": [],
   "source": [
    "death_319 = california_death_df_sum.iloc[58:73,:]"
   ]
  },
  {
   "cell_type": "code",
   "execution_count": null,
   "metadata": {},
   "outputs": [],
   "source": [
    "death_319"
   ]
  },
  {
   "cell_type": "code",
   "execution_count": null,
   "metadata": {},
   "outputs": [],
   "source": [
    "\n",
    "death_319 = death_319.reset_index()\n",
    "x_319_values = death_319['index']\n",
    "y_319_values = death_319['Deaths']\n",
    "plt.scatter(death_319['Date'],y_319_values)\n",
    "(slope, intercept, rvalue, pvalue, stderr) = linregress(x_319_values, y_319_values)\n",
    "regress_values = x_319_values * slope + intercept\n",
    "line_eq = \"y = \" + str(round(slope,2)) + \"x + \" + str(round(intercept,2))\n",
    "plt.xlabel('First 14 days after shut down')\n",
    "plt.ylabel('Death toll')\n",
    "print(line_eq)\n",
    "print(f\"Slope for 03/19 - 04/2 = {slope}\")\n",
    "\n",
    "plt.tight_layout()\n",
    "plt.show()"
   ]
  },
  {
   "cell_type": "code",
   "execution_count": null,
   "metadata": {},
   "outputs": [],
   "source": [
    "x_319_values = death_319['index']\n",
    "plt.scatter(x_319_values,y_319_values)\n",
    "plt.plot(x_319_values,regress_values,\"r-\")\n",
    "plt.annotate(line_eq,(60,200),fontsize=15,color=\"red\")\n",
    "plt.xlabel('First 14 days after shut down 03/19/20 - 04/02/20')\n",
    "plt.ylabel('CA Death toll')\n",
    "print(f\"The r-squared is: {rvalue**2}\")\n",
    "plt.savefig(\"CA_0319_0402_Death.png\")\n",
    "plt.show()"
   ]
  },
  {
   "cell_type": "code",
   "execution_count": null,
   "metadata": {},
   "outputs": [],
   "source": [
    "death_402 = california_death_df_sum.iloc[73:,:]"
   ]
  },
  {
   "cell_type": "code",
   "execution_count": null,
   "metadata": {},
   "outputs": [],
   "source": [
    "death_402"
   ]
  },
  {
   "cell_type": "code",
   "execution_count": null,
   "metadata": {},
   "outputs": [],
   "source": [
    "death_402 = death_402.reset_index()\n",
    "x_402_values = death_402['index']\n",
    "y_402_values = death_402['Deaths']\n",
    "plt.scatter(death_402['Date'],y_402_values)\n",
    "(slope, intercept, rvalue, pvalue, stderr) = linregress(x_402_values, y_402_values)\n",
    "regress_values = x_402_values * slope + intercept\n",
    "line_eq = \"y = \" + str(round(slope,2)) + \"x + \" + str(round(intercept,2))\n",
    "plt.xlabel('Date from 04/02 - 04/18')\n",
    "plt.ylabel('Death toll')\n",
    "print(line_eq)\n",
    "print(f\"Slope for 04/02 - 04/18 = {slope}\")\n",
    "\n",
    "plt.tight_layout()\n",
    "plt.show()"
   ]
  },
  {
   "cell_type": "code",
   "execution_count": null,
   "metadata": {},
   "outputs": [],
   "source": [
    "plt.scatter(x_402_values,y_402_values)\n",
    "plt.plot(x_402_values,regress_values,\"r-\")\n",
    "plt.annotate(line_eq,(76,1000),fontsize=15,color=\"red\")\n",
    "plt.xlabel('Date from 04/02 - 04/18')\n",
    "plt.ylabel('CA Death toll')\n",
    "print(f\"The r-squared is: {rvalue**2}\")\n",
    "plt.savefig(\"CA_0402_0418_Death.png\")\n",
    "plt.show()"
   ]
  },
  {
   "cell_type": "code",
   "execution_count": null,
   "metadata": {},
   "outputs": [],
   "source": []
  },
  {
   "cell_type": "code",
   "execution_count": null,
   "metadata": {
    "scrolled": false
   },
   "outputs": [],
   "source": [
    "ca_death_key_date_df= california_death_df[['Population','3/3/20','3/4/20','3/18/20','3/19/20','3/20/20','4/18/20']]\n",
    "ca_death_key_date_df"
   ]
  },
  {
   "cell_type": "code",
   "execution_count": null,
   "metadata": {},
   "outputs": [],
   "source": [
    "death_rate_shelter = ca_death_key_date_df['4/18/20'] - ca_death_key_date_df['3/18/20']\n",
    "ca_death_key_date_df['Deaths after shelter at home'] = death_rate_shelter\n",
    "ca_death_key_date_df.sort_values(by = ['Deaths after shelter at home'], ascending = False)"
   ]
  },
  {
   "cell_type": "code",
   "execution_count": null,
   "metadata": {},
   "outputs": [],
   "source": [
    "#Calculating deaths number after shelter at home \n",
    "death_number_shelter = ca_death_key_date_df['Deaths after shelter at home'].sum()\n",
    "death_shelter_start = ca_death_key_date_df['3/18/20'].sum()\n",
    "death_to_date = ca_death_key_date_df['4/18/20'].sum()\n",
    "\n",
    "print(f\"Total deaths to 03/18/20: {death_shelter_start} people\")\n",
    "print(f\"Total deaths to 04/18/20: {death_to_date} people\")\n",
    "print(f\"There are {death_number_shelter} deaths after shelter at home was ordered\")\n"
   ]
  },
  {
   "cell_type": "code",
   "execution_count": null,
   "metadata": {},
   "outputs": [],
   "source": []
  }
 ],
 "metadata": {
  "kernelspec": {
   "display_name": "Python 3",
   "language": "python",
   "name": "python3"
  },
  "language_info": {
   "codemirror_mode": {
    "name": "ipython",
    "version": 3
   },
   "file_extension": ".py",
   "mimetype": "text/x-python",
   "name": "python",
   "nbconvert_exporter": "python",
   "pygments_lexer": "ipython3",
   "version": "3.7.6"
  }
 },
 "nbformat": 4,
 "nbformat_minor": 4
}
